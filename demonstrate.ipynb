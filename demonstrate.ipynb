{
  "cells": [
    {
      "cell_type": "markdown",
      "metadata": {
        "id": "aSfKHyLVgVFz"
      },
      "source": [
        "#Colab compatible code\n"
      ]
    },
    {
      "cell_type": "code",
      "execution_count": 1,
      "metadata": {
        "colab": {
          "base_uri": "https://localhost:8080/"
        },
        "id": "p36wDO9rI1Cy",
        "outputId": "f172e99d-871a-4829-ea73-08d2a653646b"
      },
      "outputs": [],
      "source": [
        "# from google.colab import drive\n",
        "# drive.mount('/content/gdrive')\n",
        "# %cd gdrive/MyDrive/DIPLOMATIKH\n",
        "# !pip install monai"
      ]
    },
    {
      "cell_type": "markdown",
      "metadata": {
        "id": "MQLOeUbRga-9"
      },
      "source": [
        "#imports"
      ]
    },
    {
      "cell_type": "code",
      "execution_count": 2,
      "metadata": {
        "id": "215PKRRgn2nv"
      },
      "outputs": [],
      "source": [
        "from utils.dataloader import BreastCancerDataset\n",
        "from models.simple.Discriminator import Discriminator\n",
        "from models.simple.Generator import Generator\n",
        "from models.train import train_GAN\n",
        "import torch\n",
        "import torch.nn as nn"
      ]
    },
    {
      "cell_type": "code",
      "execution_count": 3,
      "metadata": {},
      "outputs": [],
      "source": [
        "EPOCHS  =1\n",
        "NOISE_SHAPE =(128,4,4,1)\n",
        "BATCH_SIZE = 2\n",
        "device = torch.device(\"cuda\" if torch.cuda.is_available() else \"cpu\")"
      ]
    },
    {
      "cell_type": "code",
      "execution_count": 4,
      "metadata": {},
      "outputs": [
        {
          "name": "stdout",
          "output_type": "stream",
          "text": [
            "sliced folder exists\n",
            "Probelm creating the folder, make sure that the folder does not exits\n",
            "If it exists, set overwrite to True to overwrite\n"
          ]
        }
      ],
      "source": [
        "dataset=BreastCancerDataset(dimensions=256,slices=64)\n",
        "dataloader=  torch.utils.data.DataLoader(dataset, batch_size=BATCH_SIZE, shuffle=True, num_workers=0)\n",
        "generator  = Generator(NOISE_SHAPE).to(device)\n",
        "discriminator = Discriminator().to(device)"
      ]
    },
    {
      "cell_type": "code",
      "execution_count": 6,
      "metadata": {},
      "outputs": [],
      "source": [
        "gen_losses, disc_losses = train_GAN(generator, discriminator, dataloader, NOISE_SHAPE, epochs=EPOCHS, device=device)"
      ]
    }
  ],
  "metadata": {
    "colab": {
      "provenance": []
    },
    "kernelspec": {
      "display_name": "Python 3",
      "name": "python3"
    },
    "language_info": {
      "codemirror_mode": {
        "name": "ipython",
        "version": 3
      },
      "file_extension": ".py",
      "mimetype": "text/x-python",
      "name": "python",
      "nbconvert_exporter": "python",
      "pygments_lexer": "ipython3",
      "version": "3.11.5"
    }
  },
  "nbformat": 4,
  "nbformat_minor": 0
}
